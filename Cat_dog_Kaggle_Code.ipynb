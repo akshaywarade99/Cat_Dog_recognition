{
 "cells": [
  {
   "cell_type": "code",
   "execution_count": 4,
   "id": "f5b3f3ee",
   "metadata": {},
   "outputs": [],
   "source": [
    "import cv2\n"
   ]
  },
  {
   "cell_type": "code",
   "execution_count": 2,
   "id": "34e6f9c3",
   "metadata": {},
   "outputs": [],
   "source": [
    "from tensorflow.keras.models import load_model"
   ]
  },
  {
   "cell_type": "code",
   "execution_count": 5,
   "id": "0601b9cd",
   "metadata": {},
   "outputs": [],
   "source": [
    "model = load_model('model2_cat_dog.h5')"
   ]
  },
  {
   "cell_type": "code",
   "execution_count": 6,
   "id": "83f64602",
   "metadata": {},
   "outputs": [
    {
     "data": {
      "text/plain": [
       "(224, 224, 3)"
      ]
     },
     "execution_count": 6,
     "metadata": {},
     "output_type": "execute_result"
    }
   ],
   "source": [
    "img= cv2.imread('cat_dog_imges/Cat2.jpg')\n",
    "img= cv2.resize(img,(224,224))\n",
    "img.shape"
   ]
  },
  {
   "cell_type": "code",
   "execution_count": 7,
   "id": "0dc6418b",
   "metadata": {},
   "outputs": [
    {
     "name": "stdout",
     "output_type": "stream",
     "text": [
      "1/1 [==============================] - 5s 5s/step\n"
     ]
    },
    {
     "data": {
      "text/plain": [
       "array([[1., 0.]], dtype=float32)"
      ]
     },
     "execution_count": 7,
     "metadata": {},
     "output_type": "execute_result"
    }
   ],
   "source": [
    "model.predict(img.reshape(1,224,224,3))"
   ]
  },
  {
   "cell_type": "code",
   "execution_count": 11,
   "id": "0d7e849e",
   "metadata": {},
   "outputs": [],
   "source": [
    "import os"
   ]
  },
  {
   "cell_type": "code",
   "execution_count": 18,
   "id": "fc9a87b1",
   "metadata": {},
   "outputs": [
    {
     "data": {
      "text/plain": [
       "['Cat2.jpg',\n",
       " 'cat3.jpg',\n",
       " 'cat4.jpg',\n",
       " 'cat5.jpg',\n",
       " 'dog1.jpg',\n",
       " 'dog2.jpg',\n",
       " 'dog3.jpg',\n",
       " 'dog4.jpg']"
      ]
     },
     "execution_count": 18,
     "metadata": {},
     "output_type": "execute_result"
    }
   ],
   "source": [
    "os.listdir('cat_dog_imges/')"
   ]
  },
  {
   "cell_type": "code",
   "execution_count": 32,
   "id": "3d1670c2",
   "metadata": {},
   "outputs": [],
   "source": [
    "def predict(path):\n",
    "    img= cv2.imread(path)\n",
    "    img= cv2.resize(img,(224,224))/255\n",
    "    y = model.predict(img.reshape(1,224,224,3)).argmax()\n",
    "    return 'Cat' if y==0 else 'Dog'"
   ]
  },
  {
   "cell_type": "code",
   "execution_count": 33,
   "id": "9a18aef9",
   "metadata": {},
   "outputs": [
    {
     "name": "stdout",
     "output_type": "stream",
     "text": [
      "1/1 [==============================] - 0s 81ms/step\n",
      "Cat2.jpg   Cat\n",
      "1/1 [==============================] - 0s 80ms/step\n",
      "cat3.jpg   Cat\n",
      "1/1 [==============================] - 0s 81ms/step\n",
      "cat4.jpg   Dog\n",
      "1/1 [==============================] - 0s 82ms/step\n",
      "cat5.jpg   Cat\n",
      "1/1 [==============================] - 0s 80ms/step\n",
      "dog1.jpg   Dog\n",
      "1/1 [==============================] - 0s 79ms/step\n",
      "dog2.jpg   Dog\n",
      "1/1 [==============================] - 0s 79ms/step\n",
      "dog3.jpg   Dog\n",
      "1/1 [==============================] - 0s 83ms/step\n",
      "dog4.jpg   Dog\n"
     ]
    }
   ],
   "source": [
    "imgs = os.listdir('cat_dog_imges/')\n",
    "for img in imgs:\n",
    "    y = predict('cat_dog_imges/'+img)\n",
    "    print(img ,' ', y)"
   ]
  },
  {
   "cell_type": "code",
   "execution_count": null,
   "id": "48a4310f",
   "metadata": {},
   "outputs": [],
   "source": []
  }
 ],
 "metadata": {
  "kernelspec": {
   "display_name": "Python [conda env:tf_env]",
   "language": "python",
   "name": "conda-env-tf_env-py"
  },
  "language_info": {
   "codemirror_mode": {
    "name": "ipython",
    "version": 3
   },
   "file_extension": ".py",
   "mimetype": "text/x-python",
   "name": "python",
   "nbconvert_exporter": "python",
   "pygments_lexer": "ipython3",
   "version": "3.8.13"
  }
 },
 "nbformat": 4,
 "nbformat_minor": 5
}
